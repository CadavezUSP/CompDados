{
 "cells": [
  {
   "cell_type": "code",
   "execution_count": 162,
   "metadata": {},
   "outputs": [
    {
     "name": "stdout",
     "output_type": "stream",
     "text": [
      "['Meal Plan 1' 'Not Selected' 'Meal Plan 2' 'Meal Plan 3']\n",
      "0        1\n",
      "1        0\n",
      "2        1\n",
      "3        1\n",
      "4        0\n",
      "        ..\n",
      "36270    1\n",
      "36271    1\n",
      "36272    1\n",
      "36273    0\n",
      "36274    1\n",
      "Name: type_of_meal_plan, Length: 36275, dtype: int64\n",
      "0.32763611302549966\n"
     ]
    }
   ],
   "source": [
    "import pandas as pd\n",
    "\n",
    "def remap(df, collum, j=0):\n",
    "    new_values = {}\n",
    "    for i in df[collum].unique():\n",
    "        new_values[i] = j\n",
    "        j+=1\n",
    "    return df[collum].map(new_values)\n",
    "\n",
    "\n",
    "df = pd.read_csv(\"./Hotel_Reservations.csv\", sep=',')\n",
    "# print(df)\n",
    "print(df[\"type_of_meal_plan\"].unique())\n",
    "meals = {\"Not Selected\":0, \"Meal Plan 1\": 1, \"Meal Plan 2\":2, \"Meal Plan 3\": 3};\n",
    "df[\"type_of_meal_plan\"] = df[\"type_of_meal_plan\"].map(meals)\n",
    "print(df[\"type_of_meal_plan\"])\n",
    "df[\"room_type_reserved\"]=remap(df, \"room_type_reserved\", j=1)\n",
    "# print(df[\"room_type_reserved\"])\n",
    "df[\"market_segment_type\"] = remap(df, \"market_segment_type\")\n",
    "df[\"booking_status\"] = remap(df, \"booking_status\")\n",
    "df.drop('Booking_ID', axis='columns', inplace=True)\n",
    "# df.to_csv(\"./Hotel_Reservations_Treated.csv\")\n",
    "print((df[\"booking_status\"].sum()/df.shape[0]))"
   ]
  },
  {
   "cell_type": "code",
   "execution_count": 176,
   "metadata": {},
   "outputs": [
    {
     "name": "stdout",
     "output_type": "stream",
     "text": [
      "{'n_neighbors': 4} 0.7871812543073743\n"
     ]
    }
   ],
   "source": [
    "import numpy as np\n",
    "import matplotlib.pyplot as plt\n",
    "from sklearn.model_selection import KFold, cross_val_score, train_test_split\n",
    "from sklearn.neighbors import KNeighborsClassifier\n",
    "from sklearn.model_selection import train_test_split\n",
    "from sklearn.model_selection import GridSearchCV\n",
    "\n",
    "Y = df['booking_status'].values\n",
    "# X = df.drop(columns=['booking_status', 'no_of_previous_bookings_not_canceled', 'no_of_previous_cancellations', 'arrival_month', 'arrival_date', 'avg_price_per_room'])\n",
    "X = df[['lead_time','no_of_previous_bookings_not_canceled', 'no_of_previous_cancellations', 'repeated_guest', 'avg_price_per_room']]\n",
    "numeroFolds = 5\n",
    "kf = KFold(numeroFolds, shuffle=True)\n",
    "\n",
    "knn2 = KNeighborsClassifier()\n",
    "#create a dictionary of all values we want to test for n_neighbors\n",
    "param_grid = {'n_neighbors': np.arange(1, 25)}\n",
    "#use gridsearch to test all values for n_neighbors\n",
    "knn_gscv = GridSearchCV(knn2, param_grid, cv=kf)\n",
    "#fit model to data\n",
    "X_train_gscv, _, Y_train_gscv, _ = train_test_split(X, Y, test_size=0.80, random_state=23, stratify=Y)\n",
    "knn_gscv.fit(X_train_gscv, Y_train_gscv)\n",
    "print(knn_gscv.best_params_, knn_gscv.best_score_)\n",
    "nneighbors=int(knn_gscv.best_params_['n_neighbors'])"
   ]
  },
  {
   "cell_type": "code",
   "execution_count": 164,
   "metadata": {},
   "outputs": [
    {
     "name": "stdout",
     "output_type": "stream",
     "text": [
      "0.32764831287216056\n",
      "0.8093505347888411\n",
      "(36275, 4) (36275,)\n",
      "Acurácia com 10 K-NN: 0.8066 +/- 0.0036\n"
     ]
    }
   ],
   "source": [
    "\n",
    "\n",
    "\n",
    "# print(df.shape)\n",
    "\n",
    "X_train, X_test, Y_train, Y_test = train_test_split(X, Y, test_size=0.25, random_state=23, stratify=Y)\n",
    "\n",
    "print(Y_train.sum()/Y_train.shape[0])\n",
    "knn = KNeighborsClassifier(n_neighbors=nneighbors)\n",
    "knn.fit(X_train, Y_train);\n",
    "knn.predict(X_test)\n",
    "print(knn.score(X_test, Y_test))\n",
    "\n",
    "print(X.shape, Y.shape)\n",
    "scores = cross_val_score(knn, X, Y, cv=kf)\n",
    "\n",
    "print('Acurácia com 10 K-NN: %0.4f +/- %0.4f' % (scores.mean(), scores.std()))\n"
   ]
  },
  {
   "cell_type": "code",
   "execution_count": 165,
   "metadata": {},
   "outputs": [
    {
     "name": "stdout",
     "output_type": "stream",
     "text": [
      "Accuracy: 0.8093505347888411\n",
      "Confusion matrix:\n",
      " [[5705  393]\n",
      " [1336 1635]]\n"
     ]
    }
   ],
   "source": [
    "from sklearn.metrics import accuracy_score, confusion_matrix\n",
    "\n",
    "# Predict using the trained KNN model\n",
    "Y_pred = knn.predict(X_test)\n",
    "\n",
    "# Calculate accuracy score\n",
    "accuracy = accuracy_score(Y_test, Y_pred)\n",
    "print(\"Accuracy:\", accuracy)\n",
    "\n",
    "# Generate confusion matrix\n",
    "cm = confusion_matrix(Y_test, Y_pred)\n",
    "print(\"Confusion matrix:\\n\", cm)\n",
    "# Create a dataframe with X_test\n",
    "X_test_df = pd.DataFrame(X_test, columns=X.columns)\n",
    "\n",
    "# Add columns for Y_pred and Y_test\n",
    "X_test_df['Y_pred'] = Y_pred\n",
    "X_test_df['Y_test'] = Y_test\n",
    "\n",
    "# Print the dataframe\n",
    "# print(X_test_df.head())\n",
    "X_test_df.to_csv(\"./ComparePredictionKNN.csv\")\n"
   ]
  },
  {
   "cell_type": "code",
   "execution_count": 177,
   "metadata": {},
   "outputs": [
    {
     "name": "stdout",
     "output_type": "stream",
     "text": [
      "Acurácia com Naive-Bayes: 0.7643 +/- 0.0056\n",
      "Accuracy: 0.7654647700959312\n",
      "Confusion matrix:\n",
      " [[5623  475]\n",
      " [1652 1319]]\n"
     ]
    }
   ],
   "source": [
    "from sklearn.naive_bayes import GaussianNB\n",
    "numeroFolds = 10\n",
    "X = X[['lead_time', 'avg_price_per_room']]\n",
    "X_train, X_test, Y_train, Y_test = train_test_split(X, Y, test_size=0.25, random_state=23, stratify=Y)\n",
    "kf = KFold(numeroFolds, shuffle=True)\n",
    "nb = GaussianNB()\n",
    "nb.fit(X_train, Y_train)\n",
    "scores = cross_val_score(nb, X_train, Y_train, cv=kf)\n",
    "print('Acurácia com Naive-Bayes: %0.4f +/- %0.4f' % (scores.mean(), scores.std()))\n",
    "\n",
    "Y_pred = nb.predict(X_test)\n",
    "\n",
    "# Calculate accuracy score\n",
    "accuracy = accuracy_score(Y_test, Y_pred)\n",
    "print(\"Accuracy:\", accuracy)\n",
    "\n",
    "# Generate confusion matrix\n",
    "cm = confusion_matrix(Y_test, Y_pred)\n",
    "print(\"Confusion matrix:\\n\", cm)\n",
    "# Create a dataframe with X_test\n",
    "X_test_df = pd.DataFrame(X_test, columns=X.columns)\n",
    "\n",
    "# Add columns for Y_pred and Y_test\n",
    "X_test_df['Y_pred'] = Y_pred\n",
    "X_test_df['Y_test'] = Y_test\n",
    "\n",
    "# Print the dataframe\n",
    "# print(X_test_df.head())\n",
    "X_test_df.to_csv(\"./ComparePredictionNB.csv\")"
   ]
  },
  {
   "cell_type": "code",
   "execution_count": null,
   "metadata": {},
   "outputs": [],
   "source": [
    "from sklearn.linear_model import LogisticRegression\n",
    "\n",
    "rlog = LogisticRegression(max_iter=1000)\n",
    "scores = cross_val_score(rlog, X, Y, cv=kf)\n",
    "print('Acurácia com Regressão Logística: %0.4f +/- %0.4f' % (scores.mean(), scores.std()))"
   ]
  }
 ],
 "metadata": {
  "kernelspec": {
   "display_name": "Python 3",
   "language": "python",
   "name": "python3"
  },
  "language_info": {
   "codemirror_mode": {
    "name": "ipython",
    "version": 3
   },
   "file_extension": ".py",
   "mimetype": "text/x-python",
   "name": "python",
   "nbconvert_exporter": "python",
   "pygments_lexer": "ipython3",
   "version": "3.8.10"
  },
  "orig_nbformat": 4
 },
 "nbformat": 4,
 "nbformat_minor": 2
}
