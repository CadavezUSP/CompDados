{
 "cells": [
  {
   "cell_type": "code",
   "execution_count": 2,
   "metadata": {},
   "outputs": [],
   "source": [
    "import numpy as np\n",
    "import matplotlib.pyplot as plt\n",
    "import pandas as pd\n",
    "\n",
    "from sklearn.metrics import mean_squared_error, r2_score\n",
    "from sklearn.linear_model import LinearRegression, Ridge, Lasso, ElasticNet\n",
    "from sklearn.ensemble import RandomForestRegressor, BaggingRegressor, AdaBoostRegressor\n",
    "from sklearn.svm import LinearSVR, SVR\n",
    "from sklearn import tree\n",
    "from sklearn.tree import DecisionTreeRegressor"
   ]
  },
  {
   "cell_type": "code",
   "execution_count": 7,
   "metadata": {},
   "outputs": [
    {
     "name": "stdout",
     "output_type": "stream",
     "text": [
      "Index(['Product_code', 'Vendor_code', 'Name', 'Retail_price', 'Base_unit',\n",
      "       'Country_of_Origin', 'Size', 'ABV'],\n",
      "      dtype='object')\n",
      "Index(['Date_and_time_of_unloading', 'Product_code', 'Amount', 'Sale_amount',\n",
      "       'Discount_amount', 'Profit', 'Percentage_markup',\n",
      "       'Discount_percentage'],\n",
      "      dtype='object')\n"
     ]
    }
   ],
   "source": [
    "Product_csv = pd.read_csv('Product_range.csv')\n",
    "Transactions_csv = pd.read_csv('Transactions.csv')\n",
    "print(Product_csv.columns)\n",
    "print(Transactions_csv.columns)\n"
   ]
  },
  {
   "cell_type": "code",
   "execution_count": 25,
   "metadata": {},
   "outputs": [],
   "source": [
    "df_total = pd.merge(Transactions_csv, Product_csv, on='Product_code')\n",
    "df_total.to_csv('Transactions_with_Product_data.csv')"
   ]
  }
 ],
 "metadata": {
  "kernelspec": {
   "display_name": "Python 3",
   "language": "python",
   "name": "python3"
  },
  "language_info": {
   "codemirror_mode": {
    "name": "ipython",
    "version": 3
   },
   "file_extension": ".py",
   "mimetype": "text/x-python",
   "name": "python",
   "nbconvert_exporter": "python",
   "pygments_lexer": "ipython3",
   "version": "3.9.13"
  },
  "orig_nbformat": 4
 },
 "nbformat": 4,
 "nbformat_minor": 2
}
